{
 "cells": [
  {
   "cell_type": "markdown",
   "metadata": {},
   "source": [
    "# CSCI 3352 Biological Networks, Spring 2020, Prof. Clauset"
   ]
  },
  {
   "cell_type": "markdown",
   "metadata": {},
   "source": [
    "# Lecture 8 lab : epidemic simulations\n",
    "\n",
    "***\n",
    "\n",
    "**Team names**: \n",
    "\n",
    "***\n",
    "\n",
    "This is an in-class \"laboratory,\" in which you will explore the behavior of the basic SIR model of an epidemic on a network.\n",
    "\n",
    "The lab is divided into three parts:\n",
    "1. A warm-up in which you develop intuition about how an epidemic spreads on a network.\n",
    "* An experiment in which you explore the epidemic threshold of $\\beta/\\gamma=R_0=1$, and how the shape of an epidemic varies as a function of $R_0$, for a fixed network $G$.\n",
    "* An experiment in \"flattening the epidemic\", in which you explore how specific changes to either the epidemic parameters ($\\beta$ and $\\gamma$) or to the underlying exposure graph $G$, can alter the \"length\" and \"height\" of the epidemic.\n",
    "\n",
    "***\n",
    "* [Documentation for networkx](https://networkx.github.io/documentation/stable/)\n",
    "\n",
    "[//]: <> (Documentation for igraph Python https://igraph.org/python/ )"
   ]
  },
  {
   "cell_type": "code",
   "execution_count": null,
   "metadata": {},
   "outputs": [],
   "source": [
    "import networkx as nx\n",
    "import numpy as np\n",
    "import matplotlib\n",
    "import matplotlib.pylab as plt\n",
    "%matplotlib inline\n",
    "import random as rnd\n",
    "rnd.seed()\n",
    "import copy"
   ]
  },
  {
   "cell_type": "code",
   "execution_count": null,
   "metadata": {},
   "outputs": [],
   "source": [
    "def drawGz(G,z):\n",
    "    # DO NOT MODIFY THIS FUNCTION\n",
    "    # This function draws G with node labels from partition z\n",
    "    #\n",
    "    # input  : G is a networkx graph\n",
    "    #        : z is a dictionary of group labels for G's nodes\n",
    "    # output : none\n",
    "    # \n",
    "    # WARNING: function is optimistic: assumes inputs are properly formatted\n",
    "\n",
    "    colors = ['#d61111','#11d646','#11c6d6','#d67711','#1b11d6','#d611cc'] # map node labels to colors (for the visualization)\n",
    "    \n",
    "    node_colors = []\n",
    "    for i in G.nodes():\n",
    "        if z[i]=='S':\n",
    "            cid = 0\n",
    "        if z[i]=='I':\n",
    "            cid = 1\n",
    "        if z[i]=='R':\n",
    "            cid = 2\n",
    "        node_colors.append(colors[int(cid)])\n",
    "    nsize  = 600\n",
    "    flabel = True\n",
    "\n",
    "    if G.order() > 50:\n",
    "        nsize  = 100\n",
    "        flabel = False\n",
    "    \n",
    "    nx.draw_kamada_kawai(G,with_labels=flabel,node_size=nsize,width=2,node_color=node_colors) # draw it prettier\n",
    "    #nx.draw_networkx(G,with_labels=flabel,node_size=nsize,width=2,node_color=node_colors) # draw it pretty\n",
    "    limits=plt.axis('off')                                      # turn off axes\n",
    "    plt.show() \n",
    "\n",
    "    return"
   ]
  },
  {
   "cell_type": "markdown",
   "metadata": {},
   "source": [
    "***\n",
    "## Part 1 : getting familiar with basic SIR on a network\n",
    "\n",
    "The code below implements a basic SIR model on a network $G$, where $G$ is the same toy graph used in the lecture notes. It\n",
    "* sets the SIR parameters to $\\beta=\\gamma=0.3$\n",
    "  * uses 2 dictionaries to represent nodes' current (`zt`) and next (`zu`) states so that updating is synchronous\n",
    "  * use 3 lists $S(t)$,$I(t)$,$R(t)$ to track the number of nodes in each state\n",
    "* begins by choosing a uniformly random node $i$ to be \"patient 0\" (set `zt[i]=1`)\n",
    "* then, applies $S\\to I$ updates, by looping over edges\n",
    "* then, applies $I\\to R$ updates, by looping over nodes\n",
    "* halts when no nodes are in the $I$ state\n",
    "* then uses `drawGz()` to visualize the epidemic's progression\n",
    "* and both plots the $S(t)$,$I(t)$,$R(t)$ time series, and reports the number of nodes in $S$ and $R$ at the end\n",
    "\n",
    "To warm up, run this SIR simulation several times with the given $\\beta,\\gamma$ parameters and examine both the graph visualizations and the final $S(t)$,$I(t)$,$R(t)$ time series. Consider the following questions:\n",
    "1. How often does the epidemic infect all or nearly all the nodes?\n",
    "2. Does _which_ node is patient 0 matter for how far the epidemic spreads?"
   ]
  },
  {
   "cell_type": "code",
   "execution_count": null,
   "metadata": {},
   "outputs": [],
   "source": [
    "# Basic SIR simulation\n",
    "\n",
    "G  = nx.Graph([(0,1),(0,2),(1,2),(2,3),(3,4),(3,5),(4,5)]) # a simple graph G\n",
    "\n",
    "n  = G.order()\n",
    "zt = dict.fromkeys(range(n), 'S') # all nodes S, initially\n",
    "\n",
    "beta = 0.3 # probability of {S-I} -> {I-I}\n",
    "gmma = 0.3 # probability of {I}   -> {R}\n",
    "\n",
    "St = [] # S(t), time series of number of S nodes per time step t\n",
    "It = [] # I(t), time series of number of I nodes per time step t\n",
    "Rt = [] # R(t), time series of number of R nodes per time step t\n",
    "\n",
    "seed     = int(rnd.randint(0,n-1)) # pick a random node is patient 0\n",
    "zt[seed] = 'I'\n",
    "t        = 1\n",
    "\n",
    "print(f'time step {t}')\n",
    "drawGz(G,zt)\n",
    "\n",
    "Sc,Ic,Rc = n-1,1,0 # S,I,R node counts, initial\n",
    "St.append(Sc)\n",
    "It.append(Ic)\n",
    "Rt.append(Rc)\n",
    "while any(xi == 'I' for xi in zt.values()):\n",
    "    zu = copy.deepcopy(zt) # nodes states for next time step (synchronous updates)\n",
    "    \n",
    "    # do S -> I transitions\n",
    "    for e in G.edges():\n",
    "        i,j = e[0],e[1]           # this edge (i,j)\n",
    "        if zt[i]=='I' and zt[j]=='S' and zu[j]!='I':\n",
    "            if rnd.random() < beta:\n",
    "                zu[j] = 'I'       # i infects j for next round\n",
    "                Sc,Ic = Sc-1,Ic+1 # update counts\n",
    "\n",
    "        if zt[i]=='S' and zt[j]=='I' and zu[i]!='I':\n",
    "            if rnd.random() < beta:\n",
    "                zu[i] = 'I'       # j infects i for next round\n",
    "                Sc,Ic = Sc-1,Ic+1 # update counts\n",
    "\n",
    "    # do I -> R transitions\n",
    "    for i in G.nodes():\n",
    "        if zt[i] == 'I' and rnd.random() < gmma:\n",
    "            zu[i] = 'R'           # i recovers (R)\n",
    "            Ic,Rc = Ic-1,Rc+1     # update counts\n",
    "\n",
    "    # update all states synchronously, update clock\n",
    "    zt = copy.deepcopy(zu)\n",
    "    t  = t+1\n",
    "    print(f'time step {t}')\n",
    "    drawGz(G,zt)\n",
    "\n",
    "    St.append(Sc)\n",
    "    It.append(Ic)\n",
    "    Rt.append(Rc) # append these counts to the time series\n",
    "\n",
    "# report how it went\n",
    "print(f'number of steps in epidemic: {t-1}')\n",
    "print(f'final number of S: {Sc}')\n",
    "print(f'final number of R: {Rc}')\n",
    "\n",
    "# plot the S(t),I(t),R(t) time series nicely\n",
    "fig = plt.figure()\n",
    "ax1 = fig.add_subplot(111) # put multiple \n",
    "plt.plot(range(t), St, 'bo-', alpha=0.5,label='S(t)')  # plot the log-likelihood trajectory\n",
    "plt.plot(range(t), It, 'rv-', alpha=0.5,label='I(t)')  # plot the log-likelihood trajectory\n",
    "plt.plot(range(t), Rt, 'gs-', alpha=0.5,label='R(t)')  # plot the log-likelihood trajectory\n",
    "plt.ylabel('number of nodes')\n",
    "plt.xlabel('time, t')\n",
    "plt.legend(loc='upper right');\n",
    "plt.show()"
   ]
  },
  {
   "cell_type": "markdown",
   "metadata": {},
   "source": [
    "***\n",
    "## Part 2 : varying $\\beta$ and $\\gamma$\n",
    "\n",
    "Using the SIR simulation from `Part 1`, conduct the following three mini-experiments. For these, use the built-in `.connected_caveman_graph(l,k)` network generator in `networkx`, with `l=10` (number of cliques) and `k=6` (size of clique).\n",
    "1. set $\\beta/\\gamma=0.5$, in the _subcritical_ regime of $R_0$\n",
    "* set $\\beta/\\gamma=1$, at the epidemic threshold of $R_0$\n",
    "* set $\\beta/\\gamma=2$, in the _supercritical_ regime of $R_0$\n",
    "\n",
    "You'll want to run each setting several times to get a sense of what the epidemic tends to do. If you aren't able to get much to happen, try increasing the magnitude of $\\beta,\\gamma$. For each, discuss with your teammates what you see happening, and answer the following specific questions:\n",
    "1. In each of the three cases, describe in a few words how far the epidemic tends to spread.\n",
    "* Which edges are the critical ones for spreading the epidemic?\n",
    "* Recall the classic $S(t)$,$I(t)$,$R(t)$ plot from the lecture; how are these functions similar or different here?\n",
    "* How do the dynamics change when you set $\\beta=\\gamma=1$ (the most extreme setting)?"
   ]
  },
  {
   "cell_type": "code",
   "execution_count": null,
   "metadata": {},
   "outputs": [],
   "source": [
    "# epidemic threshold experiments\n",
    "l,k = 12,6 # l cliques each containing k nodes\n",
    "G   = nx.connected_caveman_graph(l,k)\n",
    "\n",
    "# YOUR CODE\n",
    "\n"
   ]
  },
  {
   "cell_type": "markdown",
   "metadata": {},
   "source": [
    "Your discussion"
   ]
  },
  {
   "cell_type": "markdown",
   "metadata": {},
   "source": [
    "***\n",
    "## Part 3 : flattening an epidemic\n",
    "\n",
    "Again using the SIR simulation from `Part 1`, conduct the following three mini-experiments. For these, use the built-in `.gnp_random_graph(n, p)` network generator in `networkx`. Recall that `p` is the probability that an edge exists, and we choose it by first choosing the _mean degree_ $c$ (see Lecture Notes 3). The idea here is that the first experiment sets up your baseline for an SIR epidemic on a network, and then we'll first vary one parameter, and then vary a different parameter, to investigate the effects these parameters have on the dynamics of the epidemic. To do this, you'll want to plot the $S(t)$,$I(t)$,$R(t)$ functions after each simulation.\n",
    "\n",
    "Experiment 3.1: simulate a basic epidemic:\n",
    "* set $n=200$ and $c=6$\n",
    "* note around what time step $I(t)$ peaks, and how many time steps it mostly spans.\n",
    "\n",
    "Experiment 3.2: simulate the effect of reduced transmission (e.g., hand washing!):\n",
    "* lower $\\beta$; keep $\\gamma$ the same, $n=200$ and $c=6$\n",
    "\n",
    "Experiment 3.3: simulate the effect of \"social distancing\" (e.g., self-quarantine, staying at home, etc.):\n",
    "* lower $c$ in $G(n,p)$; keep $\\beta=\\gamma$, $n=200$\n",
    "\n",
    "As before, you'll want to run each setting several times to get a sense of what the epidemic tends to do. Start by lowering $\\beta$ and $c$ only a little, and then keep lowering them until you see something change. Then, discuss with your teammates what you found, and answer the following specific questions:\n",
    "1. What effect does lowering $\\beta$ (reducing the likelihood of transmission) have on $I(t)$, compared to experiment 3.1? How much reduced transmission would you need _everyone_ to do to achieve a real \"flattening\" of the epidemic? Do you think that's realistic?\n",
    "* What effect does lowering $c$ (reducing the likelihood of transmission) have on $I(t)$?, compared to experiment 3.1? How much social distancing would you need_everyone_ to do to achieve the results you found in experiment 3.3? (Consider what a typical $c$ might be for _you_ during a normal day. Is $c=6$ realistic?)\n",
    "* Which has a larger effect on $I(t)$, reduced transmission or social distancing?\n",
    "* As time allows, run another experiment in which you keep $\\beta$ and $c$ the same, but instead increase the recovery rate (e.g., better health care). What effect does this have on $I(t)$, compared to the other experiments?"
   ]
  },
  {
   "cell_type": "code",
   "execution_count": null,
   "metadata": {},
   "outputs": [],
   "source": [
    "\n",
    "# YOUR CODE\n"
   ]
  },
  {
   "cell_type": "markdown",
   "metadata": {},
   "source": [
    "Your discussion"
   ]
  },
  {
   "cell_type": "markdown",
   "metadata": {},
   "source": [
    "***\n",
    "## Part 4 : explore!\n",
    "\n",
    "What else can you do with this simulation? Try some things out. Different graphs (see `networkx` for various graph generators), different numbers of states, zombies!, vaccinations, etc."
   ]
  },
  {
   "cell_type": "code",
   "execution_count": null,
   "metadata": {},
   "outputs": [],
   "source": []
  }
 ],
 "metadata": {
  "kernelspec": {
   "display_name": "Python 3",
   "language": "python",
   "name": "python3"
  },
  "language_info": {
   "codemirror_mode": {
    "name": "ipython",
    "version": 3
   },
   "file_extension": ".py",
   "mimetype": "text/x-python",
   "name": "python",
   "nbconvert_exporter": "python",
   "pygments_lexer": "ipython3",
   "version": "3.7.4"
  }
 },
 "nbformat": 4,
 "nbformat_minor": 2
}
